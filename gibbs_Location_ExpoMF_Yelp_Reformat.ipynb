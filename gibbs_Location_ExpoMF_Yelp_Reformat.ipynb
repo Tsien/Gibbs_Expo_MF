{
 "cells": [
  {
   "cell_type": "markdown",
   "metadata": {},
   "source": [
    "# Fit Exposure MF with exposure covariantes (Location ExpoMF) to the Gowalla dataset"
   ]
  },
  {
   "cell_type": "code",
   "execution_count": 1,
   "metadata": {
    "collapsed": false
   },
   "outputs": [],
   "source": [
    "%load_ext autoreload\n",
    "%autoreload 2\n",
    "import glob\n",
    "import os\n",
    "# if you are using OPENBLAS, you might want to turn this option on. Otherwise, joblib might get stuck\n",
    "os.environ['OPENBLAS_NUM_THREADS'] = '1'\n",
    "\n",
    "import numpy as np\n",
    "import matplotlib\n",
    "matplotlib.use('Agg')\n",
    "import matplotlib.pyplot as plt\n",
    "%matplotlib inline\n",
    "import scipy.sparse\n",
    "import pandas as pd\n",
    "from numpy import zeros"
   ]
  },
  {
   "cell_type": "code",
   "execution_count": 2,
   "metadata": {
    "collapsed": true
   },
   "outputs": [],
   "source": [
    "#Change this to suit your need before running\n",
    "FOLDER_NAME = 'gowalla_pro'\n",
    "COUNT_NAME = '/USERCOUNT_6000_MINSC_30'\n",
    "DATA_ROOT = '../' + FOLDER_NAME\n",
    "ID_DATA_ROOT = DATA_ROOT + COUNT_NAME\n",
    "num_features = 100"
   ]
  },
  {
   "cell_type": "code",
   "execution_count": 3,
   "metadata": {
    "collapsed": false
   },
   "outputs": [],
   "source": [
    "unique_uid = list()\n",
    "with open(os.path.join(ID_DATA_ROOT, 'unique_uid.txt'), 'r') as f:\n",
    "    for line in f:\n",
    "        unique_uid.append(line.strip())\n",
    "    \n",
    "unique_sid = list()\n",
    "with open(os.path.join(ID_DATA_ROOT, 'unique_sid.txt'), 'r') as f:\n",
    "    for line in f:\n",
    "        unique_sid.append(line.strip())"
   ]
  },
  {
   "cell_type": "code",
   "execution_count": 4,
   "metadata": {
    "collapsed": false
   },
   "outputs": [
    {
     "name": "stdout",
     "output_type": "stream",
     "text": [
      "1298 3666\n"
     ]
    }
   ],
   "source": [
    "n_songs = len(unique_sid)\n",
    "n_users = len(unique_uid)\n",
    "print n_songs, n_users"
   ]
  },
  {
   "cell_type": "markdown",
   "metadata": {},
   "source": [
    "### Load the data and train the model"
   ]
  },
  {
   "cell_type": "code",
   "execution_count": 5,
   "metadata": {
    "collapsed": false
   },
   "outputs": [],
   "source": [
    "def load_data(csv_file, shape=(n_users, n_songs)):\n",
    "    tp = pd.read_csv(csv_file)    \n",
    "    rows, cols = np.array(tp['uid'], dtype=np.int32), np.array(tp['sid'], dtype=np.int32)\n",
    "    count = tp['rating']\n",
    "    return scipy.sparse.csr_matrix((count,(rows, cols)), dtype=np.int16, shape=shape), rows, cols"
   ]
  },
  {
   "cell_type": "code",
   "execution_count": 6,
   "metadata": {
    "collapsed": false
   },
   "outputs": [],
   "source": [
    "train_data, rows, cols = load_data(os.path.join(ID_DATA_ROOT, 'train.num.csv'))\n",
    "# binarize the data, setting all data equal 1\n",
    "train_data.data = np.ones_like(train_data.data)\n",
    "vad_data, rows_vad, cols_vad = load_data(os.path.join(ID_DATA_ROOT, 'vad.num.csv'))\n",
    "# binarize the data\n",
    "vad_data.data = np.ones_like(vad_data.data)\n",
    "test_data, rows_test, cols_test = load_data(os.path.join(ID_DATA_ROOT, 'test.num.csv'))\n",
    "# binarize the data\n",
    "test_data.data = np.ones_like(test_data.data)"
   ]
  },
  {
   "cell_type": "markdown",
   "metadata": {},
   "source": [
    "`feat_venue_locs.tsv` contains the location features (part of the [pre-processed data](http://dawenl.github.io/data/gowalla_pro.zip)), which are generated in the following way: \n",
    "- Run GMM (from [scikit.learn](http://scikit-learn.org/)) on all the venue locations.\n",
    "- For each venue, take the expected cluster assignment as location features `pi`."
   ]
  },
  {
   "cell_type": "code",
   "execution_count": 7,
   "metadata": {
    "collapsed": false
   },
   "outputs": [],
   "source": [
    "# filtering out locations that should have been filtered out. see filter_triplets\n",
    "pi = np.loadtxt(os.path.join(DATA_ROOT, 'feat_venue_locs.tsv'), dtype='float32')\n",
    "mask = np.ones(pi.shape, dtype=bool)\n",
    "for i in range(0, pi.shape[0]):\n",
    "    if \"%d\" % pi[i, 0] not in unique_sid:\n",
    "        mask[i,:] = False\n",
    "pi = pi[mask,...]\n",
    "pi = pi.reshape(-1, num_features+1)\n",
    "\n",
    "\n",
    "# sanity check to make sure all the venues has its corresponding feature    \n",
    "for i, s in enumerate(unique_sid):\n",
    "    if s != \"%d\" % pi[i, 0]:\n",
    "        print i, s, pi[i, 0]\n",
    "        break\n",
    "# the first column of pi is sid\n",
    "# the first column is ID, don't need them\n",
    "pi = pi[:, 1:]"
   ]
  },
  {
   "cell_type": "code",
   "execution_count": 10,
   "metadata": {
    "collapsed": false
   },
   "outputs": [],
   "source": [
    "import paral_gibbs3_expomf_cov\n",
    "import gibbs3_expomf_cov\n",
    "n_components = 100\n",
    "max_iter = 10\n",
    "n_jobs = 1\n",
    "lam = 1e-5\n",
    "# here we use the best performing init_mu from per-item \\mu_i experiment\n",
    "init_mu = 0.01\n",
    "max_epoch = 10\n",
    "\n",
    "save_dir=FOLDER_NAME + \"Paral_gibb3_ExpoMF_params_K%d_lam%1.0E_initmu%1.0E_maxepoch%d\" % (n_components, lam, init_mu, max_epoch)\n",
    "\n",
    "#coder = expomf_cov.ExpoMF(n_components=n_components, max_iter=max_iter, batch_size=1000, \n",
    "#                          batch_sgd=10, max_epoch=max_epoch, init_std=0.01,\n",
    "#                          n_jobs=n_jobs, random_state=98765, save_params=True, save_dir=save_dir, \n",
    "#                          early_stopping=True, verbose=True, \n",
    "#                          lam_y=1., lam_theta=lam, lam_beta=lam, lam_nu=lam, init_mu=init_mu, learning_rate=.5)\n",
    "import paral_gibbs3_expomf_cov\n",
    "coder = paral_gibbs3_expomf_cov.ExpoMF(n_components=n_components, max_iter=max_iter, batch_size=10000, \n",
    "                          batch_sgd=100, max_epoch=max_epoch, init_std=0.01,\n",
    "                          n_jobs=n_jobs, random_state=98765, save_params=True, save_dir=save_dir, \n",
    "                          early_stopping=True, verbose=True, \n",
    "                          lam_y=1., lam_theta=lam, lam_beta=lam, lam_nu=lam, init_mu=init_mu, learning_rate=.5, debugCov = True)"
   ]
  },
  {
   "cell_type": "code",
   "execution_count": null,
   "metadata": {
    "collapsed": false
   },
   "outputs": [
    {
     "name": "stdout",
     "output_type": "stream",
     "text": [
      "Start to sample...\n",
      "Iteration: #0\n",
      "\tSampling exposure covariate: time=1.63\n",
      "\tSampling user factors..."
     ]
    }
   ],
   "source": [
    "#parallel\n",
    "import paral_gibbs3_expomf_cov\n",
    "n_jobs = 5\n",
    "coder = paral_gibbs3_expomf_cov.ExpoMF(n_components=n_components, max_iter=max_iter, batch_size=10000, \n",
    "                          batch_sgd=100, max_epoch=max_epoch, init_std=0.01,\n",
    "                          n_jobs=n_jobs, random_state=98765, save_params=True, save_dir=save_dir, \n",
    "                          early_stopping=True, verbose=True, \n",
    "                          lam_y=1., lam_theta=lam, lam_beta=lam, lam_nu=lam, init_mu=init_mu, learning_rate=.5, debugCov=True)\n",
    "para_dir = '/home/ec2-user/notebook/expo-mf/src/YELP_20000USERS_100_feature_restaurant_only_location_only_Numeric_Id100_lxam1E-05_initmu1E-02_maxepoch10/ExpoMF_cov_K100_mu1.0e-02_iter12.npz'\n",
    "coder.fit(train_data, pi, para_dir, init_only_mu=False, random_mu = False)"
   ]
  },
  {
   "cell_type": "code",
   "execution_count": null,
   "metadata": {
    "collapsed": false
   },
   "outputs": [],
   "source": [
    "#non parallel\n",
    "para_dir = '/home/ec2-user/notebook/expo-mf/src/YELP_20000USERS_100_feature_restaurant_only_location_only_Numeric_Id100_lxam1E-05_initmu1E-02_maxepoch10/ExpoMF_cov_K100_mu1.0e-02_iter12.npz'\n",
    "coder.fit(train_data, pi, para_dir, init_only_mu=False, random_mu = False)"
   ]
  },
  {
   "cell_type": "code",
   "execution_count": null,
   "metadata": {
    "collapsed": false
   },
   "outputs": [],
   "source": [
    "#non parallel\n",
    "para_dir = '/home/ec2-user/notebook/expo-mf/src/YELP_20000USERS_100_feature_restaurant_only_location_only_Numeric_Id100_lxam1E-05_initmu1E-02_maxepoch10/ExpoMF_cov_K100_mu1.0e-02_iter12.npz'\n",
    "coder.fit(train_data, pi, para_dir, init_only_mu=False, random_mu = True)"
   ]
  },
  {
   "cell_type": "markdown",
   "metadata": {},
   "source": [
    "It seems that after a few epochs the validation loss will not decrease. However, we empirically found that it is still better to train for more epochs, instead of stop the SGD"
   ]
  },
  {
   "cell_type": "markdown",
   "metadata": {},
   "source": [
    "## Evaluate the performance on heldout testset"
   ]
  },
  {
   "cell_type": "code",
   "execution_count": null,
   "metadata": {
    "collapsed": false
   },
   "outputs": [],
   "source": [
    "n_params = len(glob.glob(os.path.join(save_dir, '*.npz')))\n",
    "\n",
    "params = np.load(os.path.join(save_dir, 'ExpoMF_cov_K%d_mu%.1e_iter%d.npz' % (n_components, init_mu, 5)))\n",
    "U, V, nu, alpha = params['U'], params['V'], params['nu'], params['alpha']"
   ]
  },
  {
   "cell_type": "markdown",
   "metadata": {},
   "source": [
    "### Rank by $\\mathbb{E}[y_{ui}] = \\mu_{ui}\\theta_u^\\top\\beta_i$"
   ]
  },
  {
   "cell_type": "code",
   "execution_count": null,
   "metadata": {
    "collapsed": false
   },
   "outputs": [],
   "source": [
    "import rec_eval\n",
    "mu = {'params': [nu, pi, alpha], 'func': gibbs3_expomf_cov.get_mu}\n",
    "\n",
    "print 'Test Recall@20: %.4f' % rec_eval.recall_at_k(train_data, test_data, U, V, k=20, mu=mu, vad_data=vad_data)\n",
    "print 'Test Recall@50: %.4f' % rec_eval.recall_at_k(train_data, test_data, U, V, k=50, mu=mu, vad_data=vad_data)\n",
    "print 'Test NDCG@100: %.4f' % rec_eval.normalized_dcg_at_k(train_data, test_data, U, V, k=100, mu=mu, vad_data=vad_data)\n",
    "print 'Test MAP@100: %.4f' % rec_eval.map_at_k(train_data, test_data, U, V, k=100, mu=mu, vad_data=vad_data)"
   ]
  }
 ],
 "metadata": {
  "kernelspec": {
   "display_name": "Python 2",
   "language": "python",
   "name": "python2"
  },
  "language_info": {
   "codemirror_mode": {
    "name": "ipython",
    "version": 2
   },
   "file_extension": ".py",
   "mimetype": "text/x-python",
   "name": "python",
   "nbconvert_exporter": "python",
   "pygments_lexer": "ipython2",
   "version": "2.7.11"
  }
 },
 "nbformat": 4,
 "nbformat_minor": 0
}
