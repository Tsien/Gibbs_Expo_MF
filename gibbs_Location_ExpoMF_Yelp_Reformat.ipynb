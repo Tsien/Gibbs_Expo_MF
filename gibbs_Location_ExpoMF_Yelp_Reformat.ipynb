{
 "cells": [
  {
   "cell_type": "markdown",
   "metadata": {},
   "source": [
    "# Fit Exposure MF with exposure covariantes (Location ExpoMF) to the Gowalla dataset"
   ]
  },
  {
   "cell_type": "code",
   "execution_count": 1,
   "metadata": {
    "collapsed": false
   },
   "outputs": [],
   "source": [
    "%load_ext autoreload\n",
    "%autoreload 2\n",
    "import glob\n",
    "import os\n",
    "# if you are using OPENBLAS, you might want to turn this option on. Otherwise, joblib might get stuck\n",
    "os.environ['OPENBLAS_NUM_THREADS'] = '1'\n",
    "\n",
    "import numpy as np\n",
    "import matplotlib\n",
    "matplotlib.use('Agg')\n",
    "import matplotlib.pyplot as plt\n",
    "%matplotlib inline\n",
    "import scipy.sparse\n",
    "import pandas as pd\n",
    "from numpy import zeros"
   ]
  },
  {
   "cell_type": "code",
   "execution_count": 2,
   "metadata": {
    "collapsed": true
   },
   "outputs": [],
   "source": [
    "#Change this to suit your need before running\n",
    "FOLDER_NAME = 'gowalla_pro'\n",
    "COUNT_NAME = '/USERCOUNT_6000_MINSC_30'\n",
    "DATA_ROOT = '../' + FOLDER_NAME\n",
    "ID_DATA_ROOT = DATA_ROOT + COUNT_NAME\n",
    "num_features = 100"
   ]
  },
  {
   "cell_type": "code",
   "execution_count": 3,
   "metadata": {
    "collapsed": false
   },
   "outputs": [],
   "source": [
    "unique_uid = list()\n",
    "with open(os.path.join(ID_DATA_ROOT, 'unique_uid.txt'), 'r') as f:\n",
    "    for line in f:\n",
    "        unique_uid.append(line.strip())\n",
    "    \n",
    "unique_sid = list()\n",
    "with open(os.path.join(ID_DATA_ROOT, 'unique_sid.txt'), 'r') as f:\n",
    "    for line in f:\n",
    "        unique_sid.append(line.strip())"
   ]
  },
  {
   "cell_type": "code",
   "execution_count": 4,
   "metadata": {
    "collapsed": false
   },
   "outputs": [
    {
     "name": "stdout",
     "output_type": "stream",
     "text": [
      "1298 3666\n"
     ]
    }
   ],
   "source": [
    "n_songs = len(unique_sid)\n",
    "n_users = len(unique_uid)\n",
    "print n_songs, n_users"
   ]
  },
  {
   "cell_type": "markdown",
   "metadata": {},
   "source": [
    "### Load the data and train the model"
   ]
  },
  {
   "cell_type": "code",
   "execution_count": 5,
   "metadata": {
    "collapsed": false
   },
   "outputs": [],
   "source": [
    "def load_data(csv_file, shape=(n_users, n_songs)):\n",
    "    tp = pd.read_csv(csv_file)    \n",
    "    rows, cols = np.array(tp['uid'], dtype=np.int32), np.array(tp['sid'], dtype=np.int32)\n",
    "    count = tp['rating']\n",
    "    return scipy.sparse.csr_matrix((count,(rows, cols)), dtype=np.int16, shape=shape), rows, cols"
   ]
  },
  {
   "cell_type": "code",
   "execution_count": 6,
   "metadata": {
    "collapsed": false
   },
   "outputs": [],
   "source": [
    "train_data, rows, cols = load_data(os.path.join(ID_DATA_ROOT, 'train.num.csv'))\n",
    "# binarize the data, setting all data equal 1\n",
    "train_data.data = np.ones_like(train_data.data)\n",
    "vad_data, rows_vad, cols_vad = load_data(os.path.join(ID_DATA_ROOT, 'vad.num.csv'))\n",
    "# binarize the data\n",
    "vad_data.data = np.ones_like(vad_data.data)\n",
    "test_data, rows_test, cols_test = load_data(os.path.join(ID_DATA_ROOT, 'test.num.csv'))\n",
    "# binarize the data\n",
    "test_data.data = np.ones_like(test_data.data)"
   ]
  },
  {
   "cell_type": "markdown",
   "metadata": {},
   "source": [
    "`feat_venue_locs.tsv` contains the location features (part of the [pre-processed data](http://dawenl.github.io/data/gowalla_pro.zip)), which are generated in the following way: \n",
    "- Run GMM (from [scikit.learn](http://scikit-learn.org/)) on all the venue locations.\n",
    "- For each venue, take the expected cluster assignment as location features `pi`."
   ]
  },
  {
   "cell_type": "code",
   "execution_count": 7,
   "metadata": {
    "collapsed": false
   },
   "outputs": [],
   "source": [
    "# filtering out locations that should have been filtered out. see filter_triplets\n",
    "pi = np.loadtxt(os.path.join(DATA_ROOT, 'feat_venue_locs.tsv'), dtype='float32')\n",
    "mask = np.ones(pi.shape, dtype=bool)\n",
    "for i in range(0, pi.shape[0]):\n",
    "    if \"%d\" % pi[i, 0] not in unique_sid:\n",
    "        mask[i,:] = False\n",
    "pi = pi[mask,...]\n",
    "pi = pi.reshape(-1, num_features+1)\n",
    "\n",
    "\n",
    "# sanity check to make sure all the venues has its corresponding feature    \n",
    "for i, s in enumerate(unique_sid):\n",
    "    if s != \"%d\" % pi[i, 0]:\n",
    "        print i, s, pi[i, 0]\n",
    "        break\n",
    "# the first column of pi is sid\n",
    "# the first column is ID, don't need them\n",
    "pi = pi[:, 1:]"
   ]
  },
  {
   "cell_type": "code",
   "execution_count": 8,
   "metadata": {
    "collapsed": false
   },
   "outputs": [],
   "source": [
    "import paral_gibbs3_expomf_cov\n",
    "import gibbs3_expomf_cov\n",
    "n_components = 100\n",
    "max_iter = 10\n",
    "n_jobs = 1\n",
    "lam = 1e-5\n",
    "# here we use the best performing init_mu from per-item \\mu_i experiment\n",
    "init_mu = 0.01\n",
    "max_epoch = 10\n",
    "\n",
    "save_dir=FOLDER_NAME + \"Paral_gibb3_ExpoMF_params_K%d_lam%1.0E_initmu%1.0E_maxepoch%d\" % (n_components, lam, init_mu, max_epoch)\n",
    "\n",
    "#coder = expomf_cov.ExpoMF(n_components=n_components, max_iter=max_iter, batch_size=1000, \n",
    "#                          batch_sgd=10, max_epoch=max_epoch, init_std=0.01,\n",
    "#                          n_jobs=n_jobs, random_state=98765, save_params=True, save_dir=save_dir, \n",
    "#                          early_stopping=True, verbose=True, \n",
    "#                          lam_y=1., lam_theta=lam, lam_beta=lam, lam_nu=lam, init_mu=init_mu, learning_rate=.5)\n",
    "import paral_gibbs3_expomf_cov\n",
    "coder = paral_gibbs3_expomf_cov.ExpoMF(n_components=n_components, max_iter=max_iter, batch_size=10000, \n",
    "                          batch_sgd=100, max_epoch=max_epoch, init_std=0.01,\n",
    "                          n_jobs=n_jobs, random_state=98765, save_params=True, save_dir=save_dir, \n",
    "                          early_stopping=True, verbose=True, \n",
    "                          lam_y=1., lam_theta=lam, lam_beta=lam, lam_nu=lam, init_mu=init_mu, learning_rate=.5, debugCov = True)"
   ]
  },
  {
   "cell_type": "code",
   "execution_count": 9,
   "metadata": {
    "collapsed": false,
    "scrolled": true
   },
   "outputs": [
    {
     "name": "stdout",
     "output_type": "stream",
     "text": [
      "Start to sample...\n",
      "Iteration: #0\n",
      "\tSampling exposure covariate: time=0.86\n",
      "\tSampling user factors...[ 315.54836857   40.79773025   99.74087797   -1.48544581  -83.26799199\n",
      "    0.86557581  205.01903723  127.14806937  -55.80825901  -89.65020852\n",
      " -169.11755708  -32.18394872  -69.77976747   67.24421566  165.96228656\n",
      "   88.343847    -86.9435543   -96.49073617    6.92928445   42.99100703\n",
      "  -19.72120003   89.29980092  -86.57004151   32.61697306   10.14185768\n",
      "   -5.35223457   93.48403441  137.7069963   141.67162753   -6.86029414\n",
      "  -75.23507544  -51.97424323  -92.06440385  153.16116664  110.57766079\n",
      "   93.32127081  107.1472779    52.90473133  -81.1963187  -159.15468085\n",
      "  111.84830654  108.93439814 -150.78546801   -9.44815183    7.59672655\n",
      "   72.8501926   -58.32995327 -170.91135141   30.61526306   -3.14406569\n",
      "  -63.46195634   24.80039692  205.74586025   76.52070516   50.50526815\n",
      "  -18.40839129   47.70853416   65.26636999   82.85105033   48.10183743\n",
      " -128.24482593   85.86736142   17.25070365   52.43634654   72.62134437\n",
      "  -66.30614707   17.15832839   20.31418467  -63.02385842  117.32666554\n",
      "  -53.691697    -87.79412067 -104.23536883   55.89973953   55.17144128\n",
      "   74.98879676   43.26013325   77.09011863   82.33328216  -46.93778764\n",
      "   -2.89298048   38.47813888   97.33311655 -107.1067591    -7.44024296\n",
      "  -47.87087436   28.23688896  -64.68697629  -13.04549471  -20.62551716\n",
      "   33.98394661   73.33319484  -59.41406756   58.57249135 -180.56196\n",
      " -144.4872868   -26.49856977  -21.53230715   21.91993355  -48.73027052]\n",
      "\tSampling user factors: time=32.55\n",
      "\tSampling item factors: time=63.19\n",
      "\tSampling location exposure covariates: time=0.66\n",
      "The MSE are:99.87 and 28.55\n",
      "Iteration: #1\n",
      "\tSampling exposure covariate: time=0.95\n",
      "\tSampling user factors...[  2.14183185e+03   5.01685597e+01   2.07075006e+02  -3.75425460e+02\n",
      "  -7.40888691e+01   5.18954616e+02   4.30888689e+02  -1.99172774e+02\n",
      "   2.86239755e+02   4.85503450e+02  -4.74224180e+02  -2.24170841e+02\n",
      "   1.03699965e+02   8.25736148e+02   8.51923706e+02   4.46704934e+02\n",
      "  -5.40765668e+02  -9.99638297e+01   4.57956795e+02   5.27771052e+02\n",
      "   2.56198433e+02   6.20860502e+02  -4.00251454e+02   1.31059398e+02\n",
      "   5.32001102e+01  -3.81451382e+02   5.93572214e+02   2.58783493e+02\n",
      "   8.52074317e+02  -2.01651804e+02  -3.14531248e+02   3.36453326e+01\n",
      "  -1.39736345e+02   3.53789899e+02  -1.49850629e+02  -1.92349808e+02\n",
      "   2.29871399e+02  -2.70061683e+02  -2.30206079e+02  -5.23057528e+02\n",
      "  -3.35037965e-02   3.46111117e+02  -4.88887076e+02  -4.03973690e+02\n",
      "  -2.02433721e+02   2.17206431e+02  -3.87855743e+02  -3.12648028e+02\n",
      "  -3.22648084e+02   2.40523655e+02  -6.36969908e+01  -2.57388374e+02\n",
      "   4.10420593e+02   1.73935635e+02   3.64280881e+02  -2.96626230e+01\n",
      "   6.25140817e+02  -3.47839525e+02   7.16152861e+01   4.17972199e+01\n",
      "  -5.29349509e+02   4.53798620e+02  -1.12186156e+02   1.92409163e+02\n",
      "   4.58948497e+01   5.49130157e+01   1.73579293e+02  -4.97439565e+01\n",
      "   9.10940797e+01  -9.81511112e+01   2.22851606e+02   3.84367602e+02\n",
      "   1.22413470e+02  -4.91020551e+02  -4.24332998e+02   4.47221307e+02\n",
      "   3.38976576e+02   1.24376188e+02  -1.64519448e+02  -7.16129179e+01\n",
      "   5.51974075e+02   1.91109028e+02   8.96973087e+01   1.93157895e+02\n",
      "  -2.37725682e+02  -1.76249988e+02   2.49011640e+02   2.41603892e+02\n",
      "   5.53138733e+02  -4.83642365e+02   8.18300195e+02   3.60206157e+02\n",
      "  -9.63512423e+01   2.59750269e+02  -2.47906195e+02  -4.83300109e+02\n",
      "  -8.66393583e+01   1.98262677e+02   1.38543134e+02  -3.72243218e+02]\n",
      "\tSampling user factors: time=33.44\n",
      "\tSampling item factors: time=60.20\n",
      "\tSampling location exposure covariates: time=0.70\n",
      "The MSE are:99.56 and 28.72\n",
      "Iteration: #2\n",
      "\tSampling exposure covariate: time=0.95\n",
      "\tSampling user factors...[  4.83627493e+03   2.17434823e+02  -5.78226420e+01  -7.68982613e+02\n",
      "  -1.72631720e+02   8.44755564e+02   4.84034039e+02  -7.31126141e+02\n",
      "   2.29238700e+02   6.27310867e+02  -7.32489569e+02  -5.67007932e+02\n",
      "   2.91525636e+02   9.90925073e+02   1.47683536e+03   7.51285456e+02\n",
      "  -1.23999355e+03  -9.96050177e+01   1.15309196e+03   8.15016530e+02\n",
      "   3.58649778e+02   1.04371326e+03  -3.59856898e+02  -4.09258925e+02\n",
      "   1.32831683e+02  -6.88058064e+02   1.29149025e+03   6.24429655e+02\n",
      "   1.48895979e+03  -4.91308537e+02  -9.54176657e+01  -1.87775157e+02\n",
      "  -3.30000659e+02   5.27731296e+02  -1.79010009e+02  -7.24382974e+02\n",
      "   1.22356086e+03  -6.33489738e+02  -2.15353525e+02  -9.76420124e+02\n",
      "   8.94228180e+01   4.25309475e+02  -9.63295321e+02  -1.11117641e+03\n",
      "  -6.29890267e+02  -4.97529169e+00  -1.88961353e+02  -7.86604655e+02\n",
      "  -8.31050070e+02   1.89125835e+02  -4.97050040e+02  -1.81247079e+02\n",
      "   4.50020732e+02   2.85794206e+02   7.22610089e+02  -3.28132684e+02\n",
      "   1.34369598e+03  -6.92278100e+02  -2.06040686e+02  -7.80865319e+01\n",
      "  -7.94160305e+02   5.86696798e+02  -4.43214377e+02  -2.23374989e+02\n",
      "  -5.43093599e+01  -4.49737143e+02   1.07199791e+02  -4.18458161e+02\n",
      "   2.52949860e+02  -2.02869736e+02   5.60699891e+02   5.41268203e+02\n",
      "   1.12179271e+02  -8.38051876e+02  -9.90740590e+02   3.72919574e+02\n",
      "   8.21771315e+02  -4.40514132e+01  -5.84172128e+02  -3.25685139e+01\n",
      "   7.43036674e+01   2.50458273e+02   8.74556492e+01   5.21973583e+02\n",
      "  -9.26404895e+02  -2.28407667e+02   8.74205113e+02   8.83713829e+02\n",
      "   8.89504102e+02  -1.29202795e+03   1.19460774e+03   4.13896894e+02\n",
      "  -1.57535142e+01   1.49605897e+02  -3.89887423e+02  -7.58244903e+02\n",
      "   5.62529809e-01   2.40362533e+02   2.44494128e+01  -6.25303687e+02]\n",
      "\tSampling user factors: time=32.98\n",
      "\tSampling item factors: time=62.09\n",
      "\tSampling location exposure covariates: time=0.67\n",
      "The MSE are:102.44 and 29.25\n",
      "Iteration: #3\n",
      "\tSampling exposure covariate: time=0.93\n",
      "\tSampling user factors...[ 12652.59699903   -664.71436555    334.75132153  -2205.52823628\n",
      "   -373.81104649   2506.18813133   1357.54279072   -697.50179032\n",
      "    224.78961214    578.72986505  -2055.17603729  -1165.8716851\n",
      "   -151.403139     1960.60671063   1312.40178348   1373.98558479\n",
      "  -3044.43627952   -924.21154467   2215.08090555   1754.26789789\n",
      "   2420.71517097   2354.52695333  -1744.55619122  -1331.44401947\n",
      "    183.72794415  -1476.55288716   2242.82487145   1870.65150944\n",
      "   1617.54759851   -729.60181673   -336.64659921  -1267.86098666\n",
      "  -1051.74720834    915.7479262   -1045.11502655   -832.53217422\n",
      "   2926.16176698  -1319.98930989   -852.84507906  -1734.5607713\n",
      "   -464.33447818   -141.48941352  -1326.76568249  -1760.03366647\n",
      "  -1588.31511729   -379.97061635     78.13773893   -843.94558385\n",
      "  -2230.64799909    506.73445325   -947.89517165    432.08859434\n",
      "   1017.96220663  -1139.931478     1180.61692139   -880.37361863\n",
      "   2612.03424567  -2074.50079993   -858.28091948   1002.25564278\n",
      "  -2590.83588278    673.89271538    -37.10949545   -740.53946804\n",
      "   -210.69015658   -608.08078568   1048.14302141    684.80654422\n",
      "   -211.02072873   -884.72207331   1286.36890038    -80.93826164\n",
      "     59.32333098  -1867.66566136  -1667.10440511    899.37902311\n",
      "   1923.86045834   -198.94276445  -1233.80503939   -127.05099104\n",
      "    816.60655135   1515.30305735  -1257.92457615   -777.03289228\n",
      "  -1983.66179008  -1822.04091012   2028.32348312    965.84295247\n",
      "   2055.62402255  -2533.04496816   2636.11968977    291.71129027\n",
      "   1124.93079236    553.82159854  -1259.91160286  -1800.39398705\n",
      "    187.26123992    423.21101202    607.96378799  -1646.55405415]\n",
      "\tSampling user factors: time=32.62\n",
      "\tSampling item factors: time=60.13\n",
      "\tSampling location exposure covariates: time=0.71\n",
      "The MSE are:103.75 and 29.53\n",
      "Iteration: #4\n",
      "\tSampling exposure covariate: time=0.96\n",
      "\tSampling user factors...[  2.27307123e+04  -2.16754886e+02  -5.93353770e+02  -2.57660160e+02\n",
      "  -4.14301438e+02   9.92326562e+02   3.66078901e+02   2.12390073e+03\n",
      "   7.67048541e+02   1.87627709e+03  -2.48610782e+03  -1.48227802e+03\n",
      "  -1.19608847e+03   4.35309494e+03   4.17930353e+03   4.00841164e+03\n",
      "  -3.01607042e+03  -1.01726133e+03   2.47889336e+03   2.27784237e+03\n",
      "   1.35368540e+02   1.72701059e+03  -2.50926904e+03  -9.56705452e+02\n",
      "   1.35472220e+03  -1.37286968e+03   3.55905386e+03   3.06829117e+03\n",
      "   2.56850453e+03  -2.76758428e+02   8.06367646e+02  -3.82819074e+03\n",
      "  -1.21468574e+03   3.70782086e+03  -1.68065042e+03  -3.01548107e+03\n",
      "   2.82278137e+03   4.57810005e+00   5.48765485e+02  -2.60056937e+03\n",
      "   6.59658518e+02   2.14069269e+03  -2.67823800e+03  -2.43838015e+03\n",
      "  -3.24689022e+03  -1.42217788e+02  -4.14136970e+02  -8.70332083e+01\n",
      "  -1.76130147e+03  -1.20616314e+01  -3.39606708e+03   1.02095003e+03\n",
      "   3.18995287e+03  -1.32205528e+03   1.03957992e+03  -1.02689747e+02\n",
      "   3.83127752e+03  -1.54187918e+03  -3.57316713e+02   7.16775186e+01\n",
      "  -2.98644576e+03  -1.38784985e+03   1.23482894e+03   3.67166426e+02\n",
      "   4.44826971e+02  -1.39329484e+03  -4.79553620e+02   1.02160558e+03\n",
      "  -1.67001580e+03  -1.28883900e+02   2.07708248e+03  -2.23472116e+02\n",
      "  -1.86239175e+03   1.05701094e+03  -3.46011053e+03   1.62312765e+03\n",
      "   1.70006748e+03  -1.01270460e+03  -9.54931507e+02  -7.76715068e+02\n",
      "   2.45503469e+03   3.20467026e+03  -1.30602554e+03  -1.82077728e+03\n",
      "  -2.99322762e+03   7.47620322e+02   1.98700140e+03   1.35974255e+03\n",
      "   2.16429995e+03  -1.93369988e+03   4.17794718e+03  -2.02688972e+03\n",
      "   2.01486130e+03   1.16798223e+03  -1.56396572e+03  -2.67154782e+03\n",
      "  -8.81121069e+01   7.44528407e+02   1.46265283e+03   1.64313167e+03]\n",
      "\tSampling user factors: time=32.21\n",
      "\tSampling item factors: time=59.79\n",
      "\tSampling location exposure covariates: time=0.66\n",
      "The MSE are:103.31 and 29.47\n",
      "Iteration: #5\n",
      "\tSampling exposure covariate: time=0.95\n",
      "\tSampling user factors...[ 39199.06928774   -947.80451179  -1328.379106     -348.9041067\n",
      "  -3622.72924562    401.25401536  -1597.43858407   2541.44166346\n",
      "   -407.65919141   2252.88983753  -3812.19359881   -476.24176267\n",
      "   1844.33588736   2558.73441835    954.8537126    3577.05474724\n",
      "  -3094.5999041    -731.82009194   5355.05226112  -1569.79214834\n",
      "   1691.57690295    690.05982837  -5043.81892291    801.60053586\n",
      "    365.93445523   -210.19008303   3546.98205415   3801.84429206\n",
      "   1078.64044327   1303.9972053    1042.70356785   1836.96910684\n",
      "  -3838.81401545    770.67662209  -1003.21355895  -2450.83146611\n",
      "   4615.6057904   -2402.27509765   -716.73546026  -3143.73117545\n",
      "   -196.51448959   1522.71716942  -1856.14976468  -1079.02272068\n",
      "  -2319.97684752   -632.99575148   1493.94205238  -2863.12593802\n",
      "  -1223.59060261  -1468.51600836  -2178.03286919   2480.55825197\n",
      "   3939.31952118   -654.34340627   2765.16654704   -611.99639428\n",
      "   5215.61293581   -193.81962259  -2082.26803449     46.09690066\n",
      "  -2813.3251804   -1045.22000067    504.68746163  -1260.42876497\n",
      "   -393.32205013  -3086.37551535   1299.51224667   -991.07497708\n",
      "   1127.13338242   -507.57719873   3042.39683504  -1806.32842214\n",
      "  -3541.17086734   1984.78646283  -4605.02172956   2198.15742992\n",
      "    720.66594079  -1847.87288029   1450.49059348   -692.43785328\n",
      "   1331.4770698     731.9925547     830.86750364  -4215.17131049\n",
      "  -4254.29592558   -766.12114796   1967.45371283   5651.40855084\n",
      "   3111.74088075  -1714.89691283   5835.09323763  -2281.10726792\n",
      "   3243.584038     1662.66790488    296.48145371  -1746.22629121\n",
      "    473.26418737   1189.51071316    285.32785859  -2629.12351569]\n",
      "\tSampling user factors: time=34.20\n",
      "\tSampling item factors: time=60.22\n",
      "\tSampling location exposure covariates: time=0.66\n",
      "The MSE are:103.55 and 29.51\n",
      "Iteration: #6\n",
      "\tSampling exposure covariate: time=0.92\n",
      "\tSampling user factors...[  4.75093207e+04   9.65568122e+02  -1.59102753e+03  -9.18505200e+02\n",
      "  -1.33883035e+03   2.36299408e+03   8.71106775e+02   2.10959351e+03\n",
      "   5.93702031e+02   2.52495646e+03  -3.58661287e+03  -8.92017759e+02\n",
      "  -2.08309118e+02   2.26605261e+03  -6.49489480e+01  -1.06765952e+02\n",
      "  -1.64371482e+03  -4.68130959e+03   2.34653564e+03  -1.13126397e+03\n",
      "  -1.34289356e+03  -5.50191128e+02  -2.61916581e+03   1.63192584e+03\n",
      "   9.34126906e+02   1.27224298e+03   2.79921511e+03   3.41155911e+03\n",
      "   8.84758592e+02  -2.62530026e+03  -1.32538877e+03  -1.87207057e+02\n",
      "  -2.46716231e+03  -3.17211710e+02  -3.18806345e+03  -2.98393997e+03\n",
      "   3.42548139e+03  -2.60750911e+03  -2.87706960e+03  -2.13515166e+03\n",
      "   1.25394189e+03   2.69480816e+03  -1.10902677e+03   1.34789775e+03\n",
      "  -1.87969449e+03  -1.98591618e+03  -5.77790161e+02  -1.29451808e+03\n",
      "  -1.39585976e+03  -9.42143514e+02  -3.70181226e+03   1.65400416e+03\n",
      "   2.74449485e+03  -1.98147143e+03   1.82433483e+03   1.40424961e+02\n",
      "   6.37276666e+02  -3.09582015e+03  -2.22706261e+03  -1.80361372e+03\n",
      "  -3.17085414e+03  -7.76250095e+02  -3.04703998e+03  -2.46878845e+02\n",
      "   1.12354884e+03  -1.16179824e+03  -1.27345656e+03  -6.40070538e+02\n",
      "  -1.34025787e+03   1.69819608e+03   2.29784072e+03  -1.55371464e+03\n",
      "   4.34177647e+02   1.15913561e+03  -2.71125679e+03  -1.23770841e+00\n",
      "   1.48724750e+01   2.39102305e+02  -7.07243842e+02  -2.16425517e+03\n",
      "  -1.71045207e+03   1.65752227e+03   5.04931529e+02  -1.47605951e+03\n",
      "  -3.41417228e+03   1.04159895e+03   6.90180362e+01   7.43753924e+02\n",
      "   4.99330501e+02   1.15419888e+03   5.22720604e+03  -1.11458951e+03\n",
      "   1.81459054e+03  -7.49874054e+02   5.15352463e+02  -2.44397682e+03\n",
      "  -2.37711620e+02  -6.32808611e+02   4.06398470e+02  -7.05174335e+02]\n",
      "\tSampling user factors: time=33.09\n",
      "\tSampling item factors: time=62.10\n",
      "\tSampling location exposure covariates: time=0.66\n",
      "The MSE are:103.99 and 29.66\n",
      "Iteration: #7\n",
      "\tSampling exposure covariate: time=0.93\n",
      "\tSampling user factors...[  5.61345378e+04   1.02800897e+03   2.29122813e+03  -6.95551420e+02\n",
      "  -4.95503028e+02  -4.44904792e+02  -1.90004999e+03   1.16168701e+03\n",
      "  -9.19077633e+02   7.91394206e+02  -2.99633396e+03  -3.17103259e+03\n",
      "   1.18316118e+03  -6.15590127e+02  -2.35208944e+03  -2.05213101e+02\n",
      "   7.02630655e+02  -4.89428823e+02   2.35259682e+03  -8.90175284e+01\n",
      "   1.61632647e+03   8.03334571e+02  -1.11581995e+03   2.53112632e+03\n",
      "   5.90909112e+02   4.35811147e+02   2.56450577e+03   1.35733664e+03\n",
      "   3.80929526e+02  -2.85881472e+03  -5.11195097e+02  -2.43939734e+03\n",
      "  -2.67171964e+02   1.26244842e+03  -2.21077296e+03  -1.24742413e+02\n",
      "   5.80925945e+02  -3.22222038e+03  -4.15996767e+02   1.08109877e+02\n",
      "  -1.06722658e+03   3.53390985e+02  -2.51936285e+03   1.19700345e+03\n",
      "  -1.42620703e+03  -2.39643449e+02  -1.22058657e+03   1.52867470e+03\n",
      "  -4.93742370e+02  -7.59023797e+01  -1.62755978e+03   2.00492769e+03\n",
      "   1.68861594e+03   1.16553644e+03   1.11662505e+03   8.57495813e+02\n",
      "   1.52836212e+03   5.58747154e+02  -2.96072442e+03  -1.78376486e+01\n",
      "  -2.06165400e+03   1.32832651e+03  -1.40723018e+03  -2.07928775e+03\n",
      "   4.38733303e+02  -4.95757378e+02   1.37922384e+03   7.83551322e+02\n",
      "   3.84915702e+02   4.78805419e+02   2.10574392e+03  -1.18701268e+03\n",
      "  -6.58089384e+02   2.12769985e+03  -1.23657861e+03  -2.36310924e+03\n",
      "   4.74965348e+02  -4.00401727e+02   8.64603507e+02  -1.12046538e+03\n",
      "   2.90543983e+03  -1.10960873e+03  -1.30816183e+03  -8.01762431e+02\n",
      "  -1.30644903e+03   2.58658391e+03   4.65926518e+02   6.84837352e+02\n",
      "  -1.38863943e+03   6.12912751e+01   4.92984847e+03  -3.30364771e+03\n",
      "   1.81736206e+03  -2.37877658e+03   7.47598912e+02  -1.01067230e+03\n",
      "   2.04847440e+03   9.23442439e+02  -5.52508733e+02   2.17493776e+03]\n",
      "\tSampling user factors: time=33.29\n",
      "\tSampling item factors: time=61.52\n",
      "\tSampling location exposure covariates: time=0.68\n",
      "The MSE are:103.41 and 29.53\n",
      "Iteration: #8\n",
      "\tSampling exposure covariate: time=0.96\n",
      "\tSampling user factors...[  6.10189585e+04   1.07686778e+03  -1.02907733e+03  -6.05628278e+02\n",
      "  -1.83178682e+03  -4.49282759e+01   1.13471454e+03   7.88500390e+02\n",
      "  -8.00669659e+02   4.41498568e+02  -1.32547866e+03  -2.81706554e+02\n",
      "  -1.61193280e+03  -4.42054232e+02  -8.78475368e+02   4.20651991e+01\n",
      "  -1.37092838e+02   4.81167215e+02  -7.80769968e+02   1.51797867e+03\n",
      "   3.83374645e+02  -3.67703202e+02  -3.05141350e+03   1.01535283e+03\n",
      "  -1.03908669e+02  -2.96207561e+02   1.40978618e+03   3.75332938e+02\n",
      "  -1.21323423e+03  -9.39526756e+02   1.34958708e+03   8.01007485e+02\n",
      "   1.72394859e+03   7.77177048e+02  -7.15591832e+01  -6.80612901e+02\n",
      "   5.84687391e+02   1.61819287e+03  -2.66858499e+03  -9.08502224e+01\n",
      "   8.62759477e+01   3.19547547e+03  -1.47220394e+03   5.71369162e+02\n",
      "  -1.25708935e+03   6.28074686e+00  -1.07629428e+03   5.25587393e+02\n",
      "   6.43099081e+02  -4.28712865e+01  -2.02212336e+03   1.18802709e+03\n",
      "   1.84098888e+03  -9.55193703e+02   1.21270910e+03  -7.72820992e+02\n",
      "   2.47742756e+03   6.26395857e+02  -1.21477304e+03   4.27533968e+01\n",
      "   2.86338855e+02  -1.64916888e+03  -1.63142384e+03  -5.90597904e+01\n",
      "   6.34344988e+02   3.75883361e+03   3.34451042e+03   1.44983932e+03\n",
      "  -1.46782463e+03  -8.49465059e+02   1.44234026e+03  -2.33108612e+03\n",
      "   1.13770655e+03   2.64676109e+03  -1.13195910e+03  -1.86233996e+03\n",
      "  -3.29309036e+02   1.14180516e+03   1.45602928e+03  -1.90764488e+03\n",
      "   1.85424159e+03  -3.35532679e+01   2.15400544e+01  -3.68448544e+03\n",
      "  -2.89120672e+03  -1.16869182e+03   1.20721629e+03   5.04892091e+02\n",
      "  -2.81806128e+01  -1.48447411e+03   1.11702187e+03   1.25711617e+03\n",
      "  -2.72086545e+02   3.53546695e+02   3.86245363e+02   1.13184142e+03\n",
      "   5.41056830e+01  -1.39573461e+03   6.49540248e+02   2.99736287e+03]\n",
      "\tSampling user factors: time=31.41\n",
      "\tSampling item factors: time=65.74\n",
      "\tSampling location exposure covariates: time=0.65\n",
      "The MSE are:103.97 and 29.67\n",
      "Iteration: #9\n",
      "\tSampling exposure covariate: time=0.97\n",
      "\tSampling user factors...[  6.52805591e+04  -5.33340426e+02  -4.23186313e+02  -3.33885418e+02\n",
      "   1.35138379e+03   3.64005637e+02  -1.99339423e+03  -7.63709937e+02\n",
      "  -1.65921171e+03  -9.55978673e+02  -5.07713469e+02  -1.52521616e+03\n",
      "  -6.58640505e+01  -5.21305227e+01  -1.77799240e+03  -1.56674419e+03\n",
      "  -7.15445318e+01   1.71295433e+03   2.33359690e+03   9.46170740e+02\n",
      "   2.07985717e+03  -7.21540777e+02  -6.80715353e+02   3.60485344e+02\n",
      "   3.09309657e+02   5.58149258e+02  -7.68036235e+02   3.63042219e+02\n",
      "  -9.32581628e+02  -1.98775127e+03   2.60214933e+03  -1.52360060e+03\n",
      "   1.23677310e+03   7.02542433e-01  -7.19223698e+01  -1.11334563e+01\n",
      "  -6.31971299e+01  -1.61834823e+03  -1.45779774e+03  -1.13347380e+03\n",
      "   2.36396799e+01   2.00403792e+03   4.02484789e+02  -1.94768443e+03\n",
      "  -1.11236054e+03   1.10816983e+03  -2.42260213e+02  -6.68956956e+02\n",
      "   2.90484734e+02  -1.68766030e+03  -2.74436137e+03  -7.80738520e+02\n",
      "   1.15937202e+03  -1.91052871e+02  -2.28297753e+02   1.75863581e+03\n",
      "   8.24442762e+02   3.32337536e+02   5.74407423e+02   1.00370147e+03\n",
      "  -4.59114241e+02   3.46201907e+02  -1.08793105e+03  -1.93047325e+03\n",
      "  -1.59022151e+02   1.92149936e+03   6.13735859e+02  -9.13413479e+02\n",
      "  -1.65610244e+03  -7.70325769e+02   2.21826051e+03  -8.05509345e+02\n",
      "  -1.57374040e+03   4.71853941e+02  -2.42878640e+03   2.29201693e+02\n",
      "  -3.63835299e+02  -2.86546006e+03   1.31886596e+03  -7.61337867e+02\n",
      "   1.16225097e+03   1.97310794e+03   2.52928985e+02  -5.67585257e+02\n",
      "  -1.29288720e+03  -2.61694648e+03   1.46275059e+03   2.08797609e+03\n",
      "  -2.84447514e+02  -1.87783252e+03   7.89728276e+02  -9.03963923e+02\n",
      "  -8.76251125e+01  -4.24310068e+02   1.32043674e+03   1.22154877e+02\n",
      "   1.90931320e+02   4.32514597e+02   2.50324454e+03  -1.54102279e+03]\n",
      "\tSampling user factors: time=34.40\n",
      "\tSampling item factors: time=61.08\n",
      "\tSampling location exposure covariates: time=0.67\n",
      "The MSE are:103.57 and 29.62\n"
     ]
    },
    {
     "ename": "NameError",
     "evalue": "global name 'plt' is not defined",
     "output_type": "error",
     "traceback": [
      "\u001b[1;31m---------------------------------------------------------------------------\u001b[0m",
      "\u001b[1;31mNameError\u001b[0m                                 Traceback (most recent call last)",
      "\u001b[1;32m<ipython-input-9-6b663d6fce37>\u001b[0m in \u001b[0;36m<module>\u001b[1;34m()\u001b[0m\n\u001b[0;32m      8\u001b[0m                           lam_y=1., lam_theta=lam, lam_beta=lam, lam_nu=lam, init_mu=init_mu, learning_rate=.5, debugCov=True)\n\u001b[0;32m      9\u001b[0m \u001b[0mpara_dir\u001b[0m \u001b[1;33m=\u001b[0m \u001b[1;34m'Gowalla_Location_ExpoMF_small6000_K100_lam1E-05_initmu1E-02_maxepoch10/ExpoMF_cov_K100_mu1.0e-02_iter19.npz'\u001b[0m\u001b[1;33m\u001b[0m\u001b[0m\n\u001b[1;32m---> 10\u001b[1;33m \u001b[0mcoder\u001b[0m\u001b[1;33m.\u001b[0m\u001b[0mfit\u001b[0m\u001b[1;33m(\u001b[0m\u001b[0mtrain_data\u001b[0m\u001b[1;33m,\u001b[0m \u001b[0mpi\u001b[0m\u001b[1;33m,\u001b[0m \u001b[0mpara_dir\u001b[0m\u001b[1;33m,\u001b[0m \u001b[0minit_only_mu\u001b[0m\u001b[1;33m=\u001b[0m\u001b[0mFalse\u001b[0m\u001b[1;33m,\u001b[0m \u001b[0mrandom_mu\u001b[0m \u001b[1;33m=\u001b[0m \u001b[0mTrue\u001b[0m\u001b[1;33m)\u001b[0m\u001b[1;33m\u001b[0m\u001b[0m\n\u001b[0m",
      "\u001b[1;32mC:\\Users\\Eric\\Documents\\GitHub\\expoMF\\paral_gibbs3_expomf_cov.pyc\u001b[0m in \u001b[0;36mfit\u001b[1;34m(self, Y, X, para_dir, init_only_mu, random_mu)\u001b[0m\n\u001b[0;32m    182\u001b[0m         \u001b[1;32mif\u001b[0m \u001b[0mself\u001b[0m\u001b[1;33m.\u001b[0m\u001b[0mverbose\u001b[0m\u001b[1;33m:\u001b[0m\u001b[1;33m\u001b[0m\u001b[0m\n\u001b[0;32m    183\u001b[0m             \u001b[1;31m#plt.plot(self.mse[:, 0])\u001b[0m\u001b[1;33m\u001b[0m\u001b[1;33m\u001b[0m\u001b[0m\n\u001b[1;32m--> 184\u001b[1;33m             \u001b[0mplt\u001b[0m\u001b[1;33m.\u001b[0m\u001b[0mplot\u001b[0m\u001b[1;33m(\u001b[0m\u001b[0mself\u001b[0m\u001b[1;33m.\u001b[0m\u001b[0mmse\u001b[0m\u001b[1;33m[\u001b[0m\u001b[1;33m:\u001b[0m\u001b[1;33m,\u001b[0m \u001b[1;36m1\u001b[0m\u001b[1;33m]\u001b[0m\u001b[1;33m)\u001b[0m\u001b[1;33m\u001b[0m\u001b[0m\n\u001b[0m\u001b[0;32m    185\u001b[0m             \u001b[0mplt\u001b[0m\u001b[1;33m.\u001b[0m\u001b[0mshow\u001b[0m\u001b[1;33m(\u001b[0m\u001b[1;33m)\u001b[0m\u001b[1;33m\u001b[0m\u001b[0m\n\u001b[0;32m    186\u001b[0m         \u001b[1;32mreturn\u001b[0m \u001b[0mself\u001b[0m\u001b[1;33m\u001b[0m\u001b[0m\n",
      "\u001b[1;31mNameError\u001b[0m: global name 'plt' is not defined"
     ]
    }
   ],
   "source": [
    "#parallel\n",
    "import paral_gibbs3_expomf_cov\n",
    "n_jobs = -1\n",
    "coder = paral_gibbs3_expomf_cov.ExpoMF(n_components=n_components, max_iter=max_iter, batch_size=10000, \n",
    "                          batch_sgd=100, max_epoch=max_epoch, init_std=0.01,\n",
    "                          n_jobs=n_jobs, random_state=98765, save_params=True, save_dir=save_dir, \n",
    "                          early_stopping=True, verbose=True, \n",
    "                          lam_y=1., lam_theta=lam, lam_beta=lam, lam_nu=lam, init_mu=init_mu, learning_rate=.5, debugCov=True)\n",
    "para_dir = 'Gowalla_Location_ExpoMF_small6000_K100_lam1E-05_initmu1E-02_maxepoch10/ExpoMF_cov_K100_mu1.0e-02_iter19.npz'\n",
    "coder.fit(train_data, pi, para_dir, init_only_mu=False, random_mu = True)"
   ]
  },
  {
   "cell_type": "code",
   "execution_count": null,
   "metadata": {
    "collapsed": false
   },
   "outputs": [],
   "source": [
    "#non parallel\n",
    "para_dir = '/home/ec2-user/notebook/expo-mf/src/YELP_20000USERS_100_feature_restaurant_only_location_only_Numeric_Id100_lxam1E-05_initmu1E-02_maxepoch10/ExpoMF_cov_K100_mu1.0e-02_iter12.npz'\n",
    "coder.fit(train_data, pi, para_dir, init_only_mu=False, random_mu = False)"
   ]
  },
  {
   "cell_type": "code",
   "execution_count": null,
   "metadata": {
    "collapsed": false
   },
   "outputs": [],
   "source": [
    "#non parallel\n",
    "para_dir = '/home/ec2-user/notebook/expo-mf/src/YELP_20000USERS_100_feature_restaurant_only_location_only_Numeric_Id100_lxam1E-05_initmu1E-02_maxepoch10/ExpoMF_cov_K100_mu1.0e-02_iter12.npz'\n",
    "coder.fit(train_data, pi, para_dir, init_only_mu=False, random_mu = True)"
   ]
  },
  {
   "cell_type": "markdown",
   "metadata": {},
   "source": [
    "It seems that after a few epochs the validation loss will not decrease. However, we empirically found that it is still better to train for more epochs, instead of stop the SGD"
   ]
  },
  {
   "cell_type": "markdown",
   "metadata": {},
   "source": [
    "## Evaluate the performance on heldout testset"
   ]
  },
  {
   "cell_type": "code",
   "execution_count": null,
   "metadata": {
    "collapsed": false
   },
   "outputs": [],
   "source": [
    "n_params = len(glob.glob(os.path.join(save_dir, '*.npz')))\n",
    "\n",
    "params = np.load(os.path.join(save_dir, 'ExpoMF_cov_K%d_mu%.1e_iter%d.npz' % (n_components, init_mu, 5)))\n",
    "U, V, nu, alpha = params['U'], params['V'], params['nu'], params['alpha']"
   ]
  },
  {
   "cell_type": "markdown",
   "metadata": {},
   "source": [
    "### Rank by $\\mathbb{E}[y_{ui}] = \\mu_{ui}\\theta_u^\\top\\beta_i$"
   ]
  },
  {
   "cell_type": "code",
   "execution_count": null,
   "metadata": {
    "collapsed": false
   },
   "outputs": [],
   "source": [
    "import rec_eval\n",
    "mu = {'params': [nu, pi, alpha], 'func': gibbs3_expomf_cov.get_mu}\n",
    "\n",
    "print 'Test Recall@20: %.4f' % rec_eval.recall_at_k(train_data, test_data, U, V, k=20, mu=mu, vad_data=vad_data)\n",
    "print 'Test Recall@50: %.4f' % rec_eval.recall_at_k(train_data, test_data, U, V, k=50, mu=mu, vad_data=vad_data)\n",
    "print 'Test NDCG@100: %.4f' % rec_eval.normalized_dcg_at_k(train_data, test_data, U, V, k=100, mu=mu, vad_data=vad_data)\n",
    "print 'Test MAP@100: %.4f' % rec_eval.map_at_k(train_data, test_data, U, V, k=100, mu=mu, vad_data=vad_data)"
   ]
  }
 ],
 "metadata": {
  "kernelspec": {
   "display_name": "Python 2",
   "language": "python",
   "name": "python2"
  },
  "language_info": {
   "codemirror_mode": {
    "name": "ipython",
    "version": 2
   },
   "file_extension": ".py",
   "mimetype": "text/x-python",
   "name": "python",
   "nbconvert_exporter": "python",
   "pygments_lexer": "ipython2",
   "version": "2.7.11"
  }
 },
 "nbformat": 4,
 "nbformat_minor": 0
}
